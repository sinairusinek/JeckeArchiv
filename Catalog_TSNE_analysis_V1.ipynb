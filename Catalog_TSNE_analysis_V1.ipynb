{
  "cells": [
    {
      "cell_type": "markdown",
      "source": [
        "# Feature Extraction and t-SNE Visualization\n",
        "\n",
        "In order to execute the code in this note book you'll need to connect to your google drive"
      ],
      "metadata": {
        "id": "_j2IUsgFLIdq"
      }
    },
    {
      "cell_type": "code",
      "source": [
        "from google.colab import drive\n",
        "drive.mount('/content/drive', force_remount=True)"
      ],
      "metadata": {
        "colab": {
          "base_uri": "https://localhost:8080/"
        },
        "id": "C44B8LJls-Ij",
        "outputId": "1494aee9-8479-42e2-d272-78f075bd0d79"
      },
      "execution_count": 1,
      "outputs": [
        {
          "output_type": "stream",
          "name": "stdout",
          "text": [
            "Mounted at /content/drive\n"
          ]
        }
      ]
    },
    {
      "cell_type": "markdown",
      "source": [
        "## **Step 1: Setup**\n",
        "#### Import necessary libraries and initialize models."
      ],
      "metadata": {
        "id": "GRVmFS1my4Z-"
      }
    },
    {
      "cell_type": "code",
      "source": [
        "import os\n",
        "import numpy as np\n",
        "import tensorflow as tf\n",
        "from tensorflow.keras.applications import ResNet50, ConvNeXtTiny\n",
        "from tensorflow.keras.applications.resnet50 import preprocess_input as resnet_preprocess\n",
        "from tensorflow.keras.applications.convnext import preprocess_input as convnext_preprocess\n",
        "from sklearn.manifold import TSNE\n",
        "import matplotlib.pyplot as plt\n",
        "import shutil"
      ],
      "metadata": {
        "id": "dZLP83kWtNh_"
      },
      "execution_count": 2,
      "outputs": []
    },
    {
      "cell_type": "markdown",
      "source": [
        "## **Step 2: Organize Data**\n",
        "#### Before running this notebook:\n",
        "#### 1. Create a directory called `data/` in the same directory as the notebook.\n",
        "#### 2. Place image subfolders (e.g., `class1/`, `class2/`) under `data/` for labeled data. For unlabeled data, place images directly under `data/`."
      ],
      "metadata": {
        "id": "v-j36fmoy-Za"
      }
    },
    {
      "cell_type": "markdown",
      "source": [
        "## **Step 3: User Inputs**\n",
        "#### Choose mode, model, and configure paths."
      ],
      "metadata": {
        "id": "Bsmq-QByzPwX"
      }
    },
    {
      "cell_type": "code",
      "source": [
        "MODE = \"unlabeled\"  # Choose between 'labeled' and 'unlabeled'\n",
        "MODEL_NAME = \"ResNet50\"  # Choose between 'ResNet50' and 'ConvNeXtTiny'\n",
        "DATA_DIR = \"data\"  # Directory containing images/subfolders\n",
        "OUTPUT_DIR = \"output\"  # Directory for saving results\n",
        "BATCH_SIZE = 32  # Batch size for feature extraction"
      ],
      "metadata": {
        "id": "7kJGvQExtXwR"
      },
      "execution_count": 4,
      "outputs": []
    },
    {
      "cell_type": "markdown",
      "source": [
        "## **Step 4: Load Pretrained Model**"
      ],
      "metadata": {
        "id": "jPWOoz8FzMP9"
      }
    },
    {
      "cell_type": "code",
      "source": [
        "def load_model(model_name):\n",
        "    if model_name == \"ResNet50\":\n",
        "        model = ResNet50(weights=\"imagenet\", include_top=False, pooling=\"avg\")\n",
        "        preprocess_func = resnet_preprocess\n",
        "    elif model_name == \"ConvNeXtTiny\":\n",
        "        model = ConvNeXtTiny(weights=\"imagenet\", include_top=False, pooling=\"avg\")\n",
        "        preprocess_func = convnext_preprocess\n",
        "    else:\n",
        "        raise ValueError(\"Unsupported model. Choose ResNet50 or ConvNeXtTiny.\")\n",
        "    return model, preprocess_func\n",
        "\n",
        "model, preprocess_input = load_model(MODEL_NAME)"
      ],
      "metadata": {
        "colab": {
          "base_uri": "https://localhost:8080/"
        },
        "id": "o2SGmk_qtLOH",
        "outputId": "5f5c8768-ce25-4194-b7ca-0e4ce7b48d36"
      },
      "execution_count": 5,
      "outputs": [
        {
          "output_type": "stream",
          "name": "stdout",
          "text": [
            "Downloading data from https://storage.googleapis.com/tensorflow/keras-applications/resnet/resnet50_weights_tf_dim_ordering_tf_kernels_notop.h5\n",
            "\u001b[1m94765736/94765736\u001b[0m \u001b[32m━━━━━━━━━━━━━━━━━━━━\u001b[0m\u001b[37m\u001b[0m \u001b[1m0s\u001b[0m 0us/step\n"
          ]
        }
      ]
    },
    {
      "cell_type": "markdown",
      "source": [
        "## **Step 5: Load Data**"
      ],
      "metadata": {
        "id": "XV0ypT-zzXvo"
      }
    },
    {
      "cell_type": "code",
      "source": [
        "def load_images(data_dir, mode):\n",
        "    images, labels, paths = [], [], []\n",
        "    for root, dirs, files in os.walk(data_dir):\n",
        "        for file in files:\n",
        "            if file.endswith((\".png\", \".jpg\", \".JPG\", \".jpeg\")):\n",
        "                img_path = os.path.join(root, file)\n",
        "                img = tf.keras.preprocessing.image.load_img(img_path, target_size=(224, 224))\n",
        "                img = tf.keras.preprocessing.image.img_to_array(img)\n",
        "                images.append(img)\n",
        "                paths.append(img_path)\n",
        "                if mode == \"labeled\":\n",
        "                    labels.append(os.path.basename(root))  # Folder name as label\n",
        "    images = np.array(images)\n",
        "    if mode == \"labeled\":\n",
        "        labels = np.array(labels)\n",
        "    else:\n",
        "        labels = None\n",
        "    return images, labels, paths\n",
        "\n",
        "images, labels, paths = load_images(DATA_DIR, MODE)\n",
        "print(f\"Loaded {len(images)} images.\")"
      ],
      "metadata": {
        "colab": {
          "base_uri": "https://localhost:8080/"
        },
        "id": "qskUoT0ltJjP",
        "outputId": "27fde595-b790-4706-ee8a-2da373c6c089"
      },
      "execution_count": 15,
      "outputs": [
        {
          "output_type": "stream",
          "name": "stdout",
          "text": [
            "Loaded 47 images.\n"
          ]
        }
      ]
    },
    {
      "cell_type": "markdown",
      "source": [
        "## **Step 6: Feature Extraction**"
      ],
      "metadata": {
        "id": "NS2a51Yzza_q"
      }
    },
    {
      "cell_type": "code",
      "source": [
        "def extract_features(model, preprocess_input, images, batch_size):\n",
        "    images_preprocessed = preprocess_input(images)\n",
        "    features = []\n",
        "    for i in range(0, len(images_preprocessed), batch_size):\n",
        "        batch = images_preprocessed[i:i + batch_size]\n",
        "\n",
        "        augmented_batch = []\n",
        "        for img in batch:\n",
        "            img = tf.convert_to_tensor(img)  # Convert to TensorFlow tensor\n",
        "\n",
        "            # Apply augmentations\n",
        "            img = tf.image.random_flip_left_right(img)  # Random horizontal flip\n",
        "            img = tf.image.random_flip_up_down(img)  # Random vertical flip\n",
        "            img = tf.image.random_brightness(img, max_delta=0.2)  # Adjust brightness\n",
        "            img = tf.image.random_contrast(img, lower=0.8, upper=1.2)  # Adjust contrast\n",
        "\n",
        "            augmented_batch.append(img.numpy())  # Convert back to NumPy array\n",
        "\n",
        "        augmented_batch = np.array(augmented_batch)\n",
        "        features_batch = model.predict(augmented_batch)\n",
        "        features.extend(features_batch)\n",
        "    return np.array(features)\n",
        "\n",
        "features = extract_features(model, preprocess_input, images, BATCH_SIZE)\n",
        "print(f\"Extracted features with shape: {features.shape}\")"
      ],
      "metadata": {
        "colab": {
          "base_uri": "https://localhost:8080/"
        },
        "id": "vyU1BrFPtHw9",
        "outputId": "04f8955b-03ca-4d27-9c68-77822df59469"
      },
      "execution_count": 16,
      "outputs": [
        {
          "output_type": "stream",
          "name": "stdout",
          "text": [
            "\u001b[1m1/1\u001b[0m \u001b[32m━━━━━━━━━━━━━━━━━━━━\u001b[0m\u001b[37m\u001b[0m \u001b[1m7s\u001b[0m 7s/step\n",
            "\u001b[1m1/1\u001b[0m \u001b[32m━━━━━━━━━━━━━━━━━━━━\u001b[0m\u001b[37m\u001b[0m \u001b[1m3s\u001b[0m 3s/step\n",
            "Extracted features with shape: (47, 2048)\n"
          ]
        }
      ]
    },
    {
      "cell_type": "markdown",
      "source": [
        "## **Step 7: t-SNE Visualization**"
      ],
      "metadata": {
        "id": "lmI2LPyczd7v"
      }
    },
    {
      "cell_type": "code",
      "source": [
        "def plot_tsne(features, labels=None):\n",
        "    tsne = TSNE(n_components=2, random_state=42, perplexity=5)\n",
        "    tsne_results = tsne.fit_transform(features)\n",
        "    plt.figure(figsize=(10, 8))\n",
        "    if labels is not None:\n",
        "        for label in np.unique(labels):\n",
        "            indices = labels == label\n",
        "            plt.scatter(tsne_results[indices, 0], tsne_results[indices, 1], label=label, alpha=0.6)\n",
        "        plt.legend()\n",
        "    else:\n",
        "        plt.scatter(tsne_results[:, 0], tsne_results[:, 1], alpha=0.6)\n",
        "    plt.title(\"t-SNE Visualization\")\n",
        "    plt.xlabel(\"t-SNE 1\")\n",
        "    plt.ylabel(\"t-SNE 2\")\n",
        "    plt.grid()\n",
        "    plt.savefig(f\"{OUTPUT_DIR}/tsne_plot.png\")\n",
        "    plt.show()\n",
        "    return tsne_results\n",
        "\n",
        "os.makedirs(OUTPUT_DIR, exist_ok=True)\n",
        "tsne_results = plot_tsne(features, labels)"
      ],
      "metadata": {
        "colab": {
          "base_uri": "https://localhost:8080/",
          "height": 718
        },
        "id": "XT-SqvXbtF4t",
        "outputId": "259c9ff3-28d9-4406-d967-6aab98ef65a7"
      },
      "execution_count": 17,
      "outputs": [
        {
          "output_type": "display_data",
          "data": {
            "text/plain": [
              "<Figure size 1000x800 with 1 Axes>"
            ],
            "image/png": "[encoded data removed]"
          },
          "metadata": {}
        }
      ]
    },
    {
      "cell_type": "markdown",
      "source": [
        "## **Step 8: Rectangle Selection**\n",
        "#### Define rectangle boundaries in the t-SNE plot (x_min, x_max, y_min, y_max).\n",
        "\n",
        "Explore the reduced 2D representation of your data to identify patterns, clusters, and relationships."
      ],
      "metadata": {
        "id": "DW94GGl9zkIT"
      }
    },
    {
      "cell_type": "code",
      "source": [
        "RECTANGLE = [-20, 20, -20, 20]  # Example coordinates;\n",
        "\n",
        "# **Function to Plot t-SNE with Rectangle**\n",
        "def plot_tsne_with_rectangle(tsne_results, rect, labels=None):\n",
        "    \"\"\"\n",
        "    Plots the t-SNE scatter plot with a highlighted rectangle.\n",
        "    Args:\n",
        "        tsne_results: t-SNE 2D coordinates.\n",
        "        rect: Rectangle boundaries (x_min, x_max, y_min, y_max).\n",
        "        labels: Optional labels for coloring points (only for labeled data).\n",
        "    \"\"\"\n",
        "    x_min, x_max, y_min, y_max = rect\n",
        "    plt.figure(figsize=(10, 8))\n",
        "\n",
        "    # Plot points\n",
        "    if labels is not None:\n",
        "        for label in np.unique(labels):\n",
        "            indices = labels == label\n",
        "            plt.scatter(tsne_results[indices, 0], tsne_results[indices, 1], label=label, alpha=0.6)\n",
        "        plt.legend()\n",
        "    else:\n",
        "        plt.scatter(tsne_results[:, 0], tsne_results[:, 1], alpha=0.6)\n",
        "\n",
        "    # Add the rectangle\n",
        "    plt.gca().add_patch(\n",
        "        plt.Rectangle((x_min, y_min), x_max - x_min, y_max - y_min, edgecolor='red', facecolor='none', linewidth=2)\n",
        "    )\n",
        "\n",
        "    # Plot details\n",
        "    plt.title(\"t-SNE Visualization with Rectangle\")\n",
        "    plt.xlabel(\"t-SNE 1\")\n",
        "    plt.ylabel(\"t-SNE 2\")\n",
        "    plt.grid()\n",
        "    plt.savefig(f\"{OUTPUT_DIR}/tsne_with_rectangle.png\")\n",
        "    plt.show()\n",
        "\n",
        "# **Step 9: Visualize t-SNE with Rectangle**\n",
        "plot_tsne_with_rectangle(tsne_results, RECTANGLE, labels)"
      ],
      "metadata": {
        "colab": {
          "base_uri": "https://localhost:8080/",
          "height": 718
        },
        "id": "Qeaf8gz5tEQF",
        "outputId": "b49b8e5c-70a2-40e5-da4d-373ea8bf4b71"
      },
      "execution_count": 18,
      "outputs": [
        {
          "output_type": "display_data",
          "data": {
            "text/plain": [
              "<Figure size 1000x800 with 1 Axes>"
            ],
            "image/png": "[encoded data removed]"
          },
          "metadata": {}
        }
      ]
    },
    {
      "cell_type": "markdown",
      "source": [
        "## Final step\n",
        "#### Save the data points selected inside the data points"
      ],
      "metadata": {
        "id": "t67M_uulz0Li"
      }
    },
    {
      "cell_type": "code",
      "source": [
        "def save_selected_points(tsne_results, paths, rect, output_dir):\n",
        "    x_min, x_max, y_min, y_max = rect\n",
        "    selected_indices = np.where(\n",
        "        (tsne_results[:, 0] >= x_min) & (tsne_results[:, 0] <= x_max) &\n",
        "        (tsne_results[:, 1] >= y_min) & (tsne_results[:, 1] <= y_max)\n",
        "    )[0]\n",
        "    selected_paths = [paths[i] for i in selected_indices]\n",
        "    os.makedirs(output_dir, exist_ok=True)\n",
        "    for path in selected_paths:\n",
        "        shutil.copy(path, output_dir)\n",
        "    with open(f\"{output_dir}/metadata.txt\", \"w\") as f:\n",
        "        f.write(f\"Rectangle: {rect}\\n\")\n",
        "        f.write(\"\\n\".join(selected_paths))\n",
        "    print(f\"Saved {len(selected_paths)} images to {output_dir}.\")\n",
        "\n",
        "save_selected_points(tsne_results, paths, RECTANGLE, f\"{OUTPUT_DIR}/selected_points\")"
      ],
      "metadata": {
        "colab": {
          "base_uri": "https://localhost:8080/"
        },
        "id": "L9oUYsdNtBBW",
        "outputId": "134b73a2-b436-42c9-b619-a2684844caff"
      },
      "execution_count": 19,
      "outputs": [
        {
          "output_type": "stream",
          "name": "stdout",
          "text": [
            "Saved 3 images to output/selected_points.\n"
          ]
        }
      ]
    }
  ],
  "metadata": {
    "colab": {
      "collapsed_sections": [
        "FWo7tYpfMF2i"
      ],
      "provenance": []
    },
    "kernelspec": {
      "display_name": "Python 3",
      "name": "python3"
    },
    "language_info": {
      "name": "python"
    }
  },
  "nbformat": 4,
  "nbformat_minor": 0
}